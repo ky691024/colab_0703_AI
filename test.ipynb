{
  "nbformat": 4,
  "nbformat_minor": 0,
  "metadata": {
    "colab": {
      "provenance": [],
      "authorship_tag": "ABX9TyMS91KZXOi6PaHiDFSjGFvh",
      "include_colab_link": true
    },
    "kernelspec": {
      "name": "python3",
      "display_name": "Python 3"
    },
    "language_info": {
      "name": "python"
    }
  },
  "cells": [
    {
      "cell_type": "markdown",
      "metadata": {
        "id": "view-in-github",
        "colab_type": "text"
      },
      "source": [
        "<a href=\"https://colab.research.google.com/github/ky691024/colab_0703_AI/blob/main/test.ipynb\" target=\"_parent\"><img src=\"https://colab.research.google.com/assets/colab-badge.svg\" alt=\"Open In Colab\"/></a>"
      ]
    },
    {
      "cell_type": "code",
      "execution_count": 1,
      "metadata": {
        "colab": {
          "base_uri": "https://localhost:8080/"
        },
        "id": "s98081fykN8Z",
        "outputId": "1847ab4a-94ef-42cb-da8c-6a585b04de6a"
      },
      "outputs": [
        {
          "output_type": "stream",
          "name": "stdout",
          "text": [
            "3\n"
          ]
        }
      ],
      "source": [
        "a=3\n",
        "print(a)\n"
      ]
    },
    {
      "cell_type": "code",
      "source": [
        "a+2.2"
      ],
      "metadata": {
        "colab": {
          "base_uri": "https://localhost:8080/"
        },
        "id": "xSQ002cGqH9J",
        "outputId": "707d4d5a-7819-4b2a-9951-2e6446638520"
      },
      "execution_count": 2,
      "outputs": [
        {
          "output_type": "execute_result",
          "data": {
            "text/plain": [
              "5.2"
            ]
          },
          "metadata": {},
          "execution_count": 2
        }
      ]
    },
    {
      "cell_type": "markdown",
      "source": [
        "Markdown 語法\n",
        "Latex Math 語法\n",
        "$ y= \\frac{1}{x+2} \\pi \\sum_{i=1}^n{a_i}$"
      ],
      "metadata": {
        "id": "9LQbgVZXqZBj"
      }
    }
  ]
}